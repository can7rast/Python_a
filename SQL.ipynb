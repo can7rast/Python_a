{
 "cells": [
  {
   "cell_type": "markdown",
   "id": "a7b54ba0",
   "metadata": {},
   "source": [
    "Задание 1:"
   ]
  },
  {
   "cell_type": "markdown",
   "id": "460bdcb3",
   "metadata": {},
   "source": [
    "Создайте базу данных library.db и таблицу books с полями:\n",
    "\n",
    "id (PRIMARY KEY, AUTOINCREMENT),\n",
    "title (TEXT, NOT NULL),\n",
    "author (TEXT, NOT NULL),\n",
    "year_published (INTEGER),\n",
    "genre (TEXT).\n",
    "\n",
    "\n"
   ]
  },
  {
   "cell_type": "code",
   "execution_count": 4,
   "id": "76c356d2",
   "metadata": {},
   "outputs": [],
   "source": [
    "import sqlite3\n",
    "\n",
    "con= sqlite3.connect('library.db')\n",
    "cursor=con.cursor()\n",
    "\n",
    "create_table_query='''\n",
    "CREATE TABLE IF NOT EXISTS books (\n",
    "    id INTEGER PRIMARY KEY AUTOINCREMENT,\n",
    "    title TEXT NOT NULL,\n",
    "    author TEXT NOT NULL,\n",
    "    year_published INTEGER,\n",
    "    genre TEXT\n",
    "\n",
    ");\n",
    "'''\n",
    "\n",
    "cursor.execute(create_table_query)\n",
    "\n",
    "con.commit()\n",
    "\n",
    "con.close()"
   ]
  },
  {
   "cell_type": "code",
   "execution_count": null,
   "id": "8d72639e",
   "metadata": {},
   "outputs": [],
   "source": []
  },
  {
   "cell_type": "markdown",
   "id": "62f66ca2",
   "metadata": {},
   "source": [
    "Задание 2:\n",
    "\n",
    "Добавьте в таблицу books следующие записи:\n",
    "\n",
    "\"The Great Gatsby\", автор: F. Scott Fitzgerald, год: 1925, жанр: Fiction.\n",
    "\"1984\", автор: George Orwell, год: 1949, жанр: Dystopian.\n",
    "\"To Kill a Mockingbird\", автор: Harper Lee, год: 1960, жанр: Classic."
   ]
  },
  {
   "cell_type": "code",
   "execution_count": 5,
   "id": "48240703",
   "metadata": {},
   "outputs": [],
   "source": [
    "import sqlite3\n",
    "\n",
    "con=sqlite3.connect('library.db')\n",
    "\n",
    "cursor=con.cursor()\n",
    "\n",
    "insert_query='''\n",
    "INSERT INTO books (title,  author, year_published, genre)\n",
    "VALUES (?, ?, ?, ?);\n",
    "'''\n",
    "\n",
    "users_data = [\n",
    "    ('The Great Gatsby', 'F. Scott Fitzgerald', 1925, 'Fiction'),\n",
    "    ('1984', 'George Orwell', 1949, 'Dystopian'),\n",
    "    ('To Kill a Mockingbird', 'Harper Lee', 1960, 'Classic')\n",
    "]\n",
    "\n",
    "cursor.executemany(insert_query, users_data)\n",
    "\n",
    "con.commit()\n",
    "\n",
    "con.close()"
   ]
  },
  {
   "cell_type": "markdown",
   "id": "f8c7b867",
   "metadata": {},
   "source": [
    "Задание 3:\n",
    "\n",
    "Выборка всех данных\n",
    "Напишите запрос, который выбирает все книги из таблицы books."
   ]
  },
  {
   "cell_type": "code",
   "execution_count": null,
   "id": "b574ad7a",
   "metadata": {},
   "outputs": [
    {
     "name": "stdout",
     "output_type": "stream",
     "text": [
      "('The Great Gatsby',)\n",
      "('1984',)\n",
      "('To Kill a Mockingbird',)\n"
     ]
    }
   ],
   "source": [
    "import sqlite3\n",
    "\n",
    "con=sqlite3.connect('library.db')\n",
    "cursor=con.cursor()\n",
    "\n",
    "select_query='''\n",
    "SELECT title FROM books;\n",
    "'''\n",
    "\n",
    "cursor.execute(select_query)\n",
    "\n",
    "rows=cursor.fetchall()\n",
    "\n",
    "for row in rows:\n",
    "    print(row)\n",
    "con.commit()\n",
    "\n",
    "con.close()"
   ]
  },
  {
   "cell_type": "markdown",
   "id": "3c110b52",
   "metadata": {},
   "source": [
    "Задание 4:\n",
    "\n",
    "Фильтрация данных\n",
    "Выберите все книги, опубликованные после 1950 года."
   ]
  },
  {
   "cell_type": "code",
   "execution_count": null,
   "id": "1f12e721",
   "metadata": {},
   "outputs": [
    {
     "name": "stdout",
     "output_type": "stream",
     "text": [
      "(3, 'To Kill a Mockingbird', 'Harper Lee', 1960, 'Classic')\n"
     ]
    }
   ],
   "source": [
    "import sqlite3\n",
    "\n",
    "con=sqlite3.connect('library.db')\n",
    "cursor=con.cursor()\n",
    "\n",
    "select_query='''\n",
    "SELECT *FROM books WHERE year_published > ?;\n",
    "'''\n",
    "\n",
    "year_limit=1950\n",
    "cursor.execute(select_query, (year_limit,))\n",
    "\n",
    "rows=cursor.fetchall()\n",
    "\n",
    "for row in rows:\n",
    "    print(row)\n",
    "\n",
    "con.commit()\n",
    "con.close()"
   ]
  },
  {
   "cell_type": "markdown",
   "id": "b264ab78",
   "metadata": {},
   "source": [
    "Задание 5:\n",
    "\n",
    "Использование оператора LIKE\n",
    "Найдите все книги, название которых начинается с буквы \"T\"."
   ]
  },
  {
   "cell_type": "code",
   "execution_count": null,
   "id": "bd6036dc",
   "metadata": {},
   "outputs": [
    {
     "name": "stdout",
     "output_type": "stream",
     "text": [
      "(1, 'The Great Gatsby', 'F. Scott Fitzgerald', 1925, 'Fiction')\n",
      "(3, 'To Kill a Mockingbird', 'Harper Lee', 1960, 'Classic')\n"
     ]
    }
   ],
   "source": [
    "import sqlite3\n",
    "\n",
    "con = sqlite3.connect('library.db')\n",
    "cursor = con.cursor()\n",
    "\n",
    "select_query = '''\n",
    "SELECT * FROM books WHERE title LIKE ?;\n",
    "'''\n",
    "\n",
    "letter = \"T%\"\n",
    "cursor.execute(select_query, (letter,))\n",
    "\n",
    "rows = cursor.fetchall()\n",
    "\n",
    "for row in rows:\n",
    "    print(row)\n",
    "con.commit()\n",
    "con.close()"
   ]
  },
  {
   "cell_type": "markdown",
   "id": "e9d52a5c",
   "metadata": {},
   "source": [
    "Задание 6 "
   ]
  },
  {
   "cell_type": "markdown",
   "id": "4e07cbb5",
   "metadata": {},
   "source": [
    "Сортировка данных\n",
    "Отсортируйте книги по году публикации в порядке возрастания."
   ]
  },
  {
   "cell_type": "code",
   "execution_count": null,
   "id": "c730a8c6",
   "metadata": {},
   "outputs": [
    {
     "name": "stdout",
     "output_type": "stream",
     "text": [
      "(1, 'The Great Gatsby', 'F. Scott Fitzgerald', 1925, 'Fiction')\n",
      "(2, '1984', 'George Orwell', 1949, 'Dystopian')\n",
      "(3, 'To Kill a Mockingbird', 'Harper Lee', 1960, 'Classic')\n"
     ]
    }
   ],
   "source": [
    "import sqlite3\n",
    "\n",
    "con = sqlite3.connect('library.db')\n",
    "cursor = con.cursor()\n",
    "\n",
    "select_query = '''\n",
    "SELECT * FROM books ORDER BY year_published ASC;\n",
    "'''\n",
    "\n",
    "cursor.execute(select_query)\n",
    "\n",
    "rows = cursor.fetchall()\n",
    "\n",
    "for row in rows:\n",
    "    print(row)\n",
    "con.commit()\n",
    "con.close()"
   ]
  },
  {
   "cell_type": "markdown",
   "id": "b15055ef",
   "metadata": {},
   "source": [
    "Задание 7"
   ]
  },
  {
   "cell_type": "markdown",
   "id": "282720f9",
   "metadata": {},
   "source": [
    " Ограничение количества строк\n",
    "Выберите первые две книги из таблицы books, отсортированные по названию."
   ]
  },
  {
   "cell_type": "code",
   "execution_count": null,
   "id": "02e6e65d",
   "metadata": {},
   "outputs": [
    {
     "name": "stdout",
     "output_type": "stream",
     "text": [
      "(2, '1984', 'George Orwell', 1949, 'Dystopian')\n",
      "(1, 'The Great Gatsby', 'F. Scott Fitzgerald', 1925, 'Fiction')\n"
     ]
    }
   ],
   "source": [
    "import sqlite3\n",
    "con = sqlite3.connect('library.db')\n",
    "\n",
    "cursor=con.cursor()\n",
    "\n",
    "select_query='''\n",
    "SELECT *FROM books ORDER BY title LIMIT 2;\n",
    "'''\n",
    "\n",
    "cursor.execute(select_query)\n",
    "\n",
    "rows=cursor.fetchall()\n",
    "\n",
    "for row in rows:\n",
    "    print(row)\n",
    "con.commit()\n",
    "con.close()"
   ]
  },
  {
   "cell_type": "markdown",
   "id": "6a791ce7",
   "metadata": {},
   "source": [
    "Задание 8\n",
    "\n",
    " Агрегатные функции\n",
    "Подсчитайте общее количество книг в таблице books."
   ]
  },
  {
   "cell_type": "code",
   "execution_count": null,
   "id": "cf36d2b7",
   "metadata": {},
   "outputs": [
    {
     "name": "stdout",
     "output_type": "stream",
     "text": [
      "База данных существует!\n",
      "Количество книг  3\n"
     ]
    }
   ],
   "source": [
    "import sqlite3\n",
    "import os\n",
    "\n",
    "db_file = 'library.db'\n",
    "\n",
    "if os.path.exists(db_file):\n",
    "    print(\"База данных существует!\")\n",
    "\n",
    "    con = sqlite3.connect(db_file)\n",
    "    cursor = con.cursor()\n",
    "\n",
    "    select_query = '''\n",
    "    SELECT COUNT(*) AS total_books FROM books;\n",
    "    '''\n",
    "\n",
    "    cursor.execute(select_query)\n",
    "    res = cursor.fetchone()\n",
    "\n",
    "    print(f\"Количество книг  {res[0]}\")\n",
    "    con.commit()\n",
    "    con.close()\n",
    "else:\n",
    "    print(\"База данных не существует.\")"
   ]
  },
  {
   "cell_type": "markdown",
   "id": "c915c026",
   "metadata": {},
   "source": [
    "Задани 9"
   ]
  },
  {
   "cell_type": "markdown",
   "id": "0de2aa45",
   "metadata": {},
   "source": [
    "Группировка данных\n",
    "Подсчитайте количество книг для каждого жанра."
   ]
  },
  {
   "cell_type": "code",
   "execution_count": null,
   "id": "3f4daea6",
   "metadata": {},
   "outputs": [
    {
     "name": "stdout",
     "output_type": "stream",
     "text": [
      "База данных существует!\n",
      "Жанр: Classic, Количество книг: 1\n",
      "Жанр: Dystopian, Количество книг: 1\n",
      "Жанр: Fiction, Количество книг: 1\n"
     ]
    }
   ],
   "source": [
    "import sqlite3\n",
    "import os\n",
    "\n",
    "db_file = 'library.db'\n",
    "\n",
    "if os.path.exists(db_file):\n",
    "    print(\"База данных существует!\")\n",
    "\n",
    "    con = sqlite3.connect(db_file)\n",
    "    cursor = con.cursor()\n",
    "\n",
    "    select_query = '''\n",
    "    SELECT genre, COUNT(*) AS book_count \n",
    "    FROM books \n",
    "    GROUP BY genre;\n",
    "    '''\n",
    "\n",
    "    cursor.execute(select_query)\n",
    "    rows = cursor.fetchall()\n",
    "\n",
    "    for i in rows:\n",
    "        print(f\"Жанр: {i[0]}, Количество книг: {i[1]}\")\n",
    "    con.commit()\n",
    "    con.close()\n",
    "else:\n",
    "    print(\"База данных не существует.\")"
   ]
  },
  {
   "cell_type": "markdown",
   "id": "167d0bf8",
   "metadata": {},
   "source": [
    "Задание 10\n",
    "Обновление данных\n",
    "Обновите год публикации книги \"1984\" на 1948."
   ]
  },
  {
   "cell_type": "code",
   "execution_count": 30,
   "id": "01bbfb93",
   "metadata": {},
   "outputs": [
    {
     "name": "stdout",
     "output_type": "stream",
     "text": [
      "База данных существует!\n",
      "Год публикации книги '1984' обновлен на 1948\n"
     ]
    }
   ],
   "source": [
    "import sqlite3\n",
    "import os\n",
    "\n",
    "db_file = 'library.db'\n",
    "\n",
    "if os.path.exists(db_file):\n",
    "    print(\"База данных существует!\")\n",
    "\n",
    "    con = sqlite3.connect(db_file)\n",
    "    cursor = con.cursor()\n",
    "\n",
    "    update_query = '''\n",
    "    UPDATE books SET year_published = ? WHERE title = ?;\n",
    "    '''\n",
    "\n",
    "    year = 1948\n",
    "    title = \"1984\"\n",
    "    cursor.execute(update_query, (year, title))\n",
    "\n",
    "    con.commit()\n",
    "    print(f\"Год публикации книги '{title}' обновлен на {year}\")\n",
    "\n",
    "    con.close()\n",
    "else:\n",
    "    print(\"База данных не существует.\")"
   ]
  },
  {
   "cell_type": "markdown",
   "id": "406d1506",
   "metadata": {},
   "source": [
    "Задани 11"
   ]
  },
  {
   "cell_type": "markdown",
   "id": "fdf694ca",
   "metadata": {},
   "source": [
    "Удаление данных\n",
    "Удалите книгу с названием \"The Great Gatsby\"."
   ]
  },
  {
   "cell_type": "code",
   "execution_count": 27,
   "id": "96bba7ac",
   "metadata": {},
   "outputs": [
    {
     "name": "stdout",
     "output_type": "stream",
     "text": [
      "База данных существует!\n",
      "Книга 'The Great Gatsby' удалена\n"
     ]
    }
   ],
   "source": [
    "import sqlite3\n",
    "import os\n",
    "\n",
    "db_file = 'library.db'\n",
    "\n",
    "if os.path.exists(db_file):\n",
    "    print(\"База данных существует!\")\n",
    "\n",
    "    con = sqlite3.connect(db_file)\n",
    "    cursor = con.cursor()\n",
    "\n",
    "    delete_query = '''\n",
    "    DELETE FROM books WHERE title = ?;\n",
    "    '''\n",
    "\n",
    "    title = \"The Great Gatsby\"\n",
    "    cursor.execute(delete_query, (title,))\n",
    "\n",
    "    con.commit()\n",
    "    print(f\"Книга '{title}' удалена\")\n",
    "\n",
    "    con.close()\n",
    "else:\n",
    "    print(\"База данных не существует.\")"
   ]
  },
  {
   "cell_type": "markdown",
   "id": "5f5a3d90",
   "metadata": {},
   "source": [
    "Задание 12"
   ]
  },
  {
   "cell_type": "markdown",
   "id": "045f1c0d",
   "metadata": {},
   "source": [
    "Создание индекса\n",
    "Создайте индекс для столбца author в таблице books."
   ]
  },
  {
   "cell_type": "code",
   "execution_count": 31,
   "id": "786ce1ac",
   "metadata": {},
   "outputs": [
    {
     "name": "stdout",
     "output_type": "stream",
     "text": [
      "База данных существует!\n",
      "Индекс для столбца author создан\n"
     ]
    }
   ],
   "source": [
    "import sqlite3\n",
    "import os\n",
    "\n",
    "db_file = 'library.db'\n",
    "\n",
    "if os.path.exists(db_file):\n",
    "    print(\"База данных существует!\")\n",
    "\n",
    "    con = sqlite3.connect(db_file)\n",
    "    cursor = con.cursor()\n",
    "\n",
    "    create_index_query = '''\n",
    "    CREATE INDEX IF NOT EXISTS idx_author ON books(author);\n",
    "    '''\n",
    "\n",
    "    cursor.execute(create_index_query)\n",
    "    con.commit()\n",
    "    print(\"Индекс для столбца author создан\")\n",
    "\n",
    "    con.close()\n",
    "else:\n",
    "    print(\"База данных не существует.\")"
   ]
  },
  {
   "cell_type": "markdown",
   "id": "e4f0ecf4",
   "metadata": {},
   "source": [
    "Задание 13\n",
    "Проверка существования индекса: Проверьте, существует ли индекс для столбца author"
   ]
  },
  {
   "cell_type": "code",
   "execution_count": null,
   "id": "5dae6ab3",
   "metadata": {},
   "outputs": [
    {
     "name": "stdout",
     "output_type": "stream",
     "text": [
      "База данных существует!\n",
      "Индекс idx_author существует\n"
     ]
    }
   ],
   "source": [
    "import sqlite3\n",
    "import os\n",
    "\n",
    "db_file = 'library.db'\n",
    "\n",
    "if os.path.exists(db_file):\n",
    "    print(\"База данных существует!\")\n",
    "\n",
    "    con = sqlite3.connect(db_file)\n",
    "    cursor = con.cursor()\n",
    "        \n",
    "    check_index_query = '''\n",
    "    SELECT name FROM sqlite_master \n",
    "    WHERE type = 'index' AND tbl_name = 'books' AND name = 'idx_author';\n",
    "    '''\n",
    "\n",
    "    cursor.execute(check_index_query)\n",
    "    index_exists = cursor.fetchone()\n",
    "\n",
    "    if index_exists:\n",
    "        print(\"Индекс idx_author существует\")\n",
    "    else:\n",
    "        print(\"Индекс idx_author не существует\")\n",
    "    con.commit()\n",
    "    con.close()\n",
    "else:\n",
    "    print(\"База данных не существует.\")"
   ]
  },
  {
   "cell_type": "markdown",
   "id": "958840ca",
   "metadata": {},
   "source": [
    "Задание 14"
   ]
  },
  {
   "cell_type": "markdown",
   "id": "8fccd1d9",
   "metadata": {},
   "source": [
    "Триггер для логирования: Создайте триггер, который записывает изменения в таблицу logs при добавлении новой книги"
   ]
  },
  {
   "cell_type": "code",
   "execution_count": 33,
   "id": "23c3a2c8",
   "metadata": {},
   "outputs": [
    {
     "name": "stdout",
     "output_type": "stream",
     "text": [
      "База данных существует!\n",
      "Триггер создан\n"
     ]
    }
   ],
   "source": [
    "import sqlite3\n",
    "import os\n",
    "\n",
    "db_file = 'library.db'\n",
    "\n",
    "if os.path.exists(db_file):\n",
    "    print(\"База данных существует!\")\n",
    "\n",
    "    con = sqlite3.connect(db_file)\n",
    "    cursor = con.cursor()\n",
    "\n",
    "    cursor.execute('''\n",
    "    CREATE TABLE IF NOT EXISTS logs (\n",
    "        id INTEGER PRIMARY KEY AUTOINCREMENT,\n",
    "        action TEXT,\n",
    "        book_title TEXT\n",
    "    );\n",
    "    ''')\n",
    "\n",
    "    cursor.execute('''\n",
    "    CREATE TRIGGER IF NOT EXISTS log_book_insert\n",
    "    AFTER INSERT ON books\n",
    "    FOR EACH ROW\n",
    "    BEGIN\n",
    "        INSERT INTO logs (action, book_title)\n",
    "        VALUES ('Добавлена книга', NEW.title);\n",
    "    END;\n",
    "    ''')\n",
    "\n",
    "    con.commit()\n",
    "    print(\"Триггер создан\")\n",
    "\n",
    "    con.close()\n",
    "else:\n",
    "    print(\"База данных не существует.\")"
   ]
  },
  {
   "cell_type": "markdown",
   "id": "9a1bb164",
   "metadata": {},
   "source": [
    "Задание 15\n",
    "Транзакции: Программа с добавлением книги, обновлением года и откатом при ошибке"
   ]
  },
  {
   "cell_type": "code",
   "execution_count": 36,
   "id": "76307b03",
   "metadata": {},
   "outputs": [
    {
     "name": "stdout",
     "output_type": "stream",
     "text": [
      "База данных существует!\n",
      "Транзакция успешно завершена\n"
     ]
    }
   ],
   "source": [
    "import sqlite3\n",
    "import os\n",
    "\n",
    "db_file = 'library.db'\n",
    "\n",
    "if os.path.exists(db_file):\n",
    "    print(\"База данных существует!\")\n",
    "\n",
    "    con = sqlite3.connect(db_file)\n",
    "    cursor = con.cursor()\n",
    "\n",
    "    try:\n",
    "        con.execute('BEGIN TRANSACTION;')\n",
    "\n",
    "        \n",
    "        insert_query = '''\n",
    "        INSERT INTO books (title, author, year_published ) VALUES (?, ?, ?);\n",
    "        '''\n",
    "        cursor.execute(insert_query, ('New Book', 'New Author', 2025))\n",
    "\n",
    "        update_query = '''\n",
    "        UPDATE books SET year_published = ? WHERE title = ?;\n",
    "        '''\n",
    "        cursor.execute(update_query, (1948, '1984'))\n",
    "        con.commit()\n",
    "        print(\"Транзакция успешно завершена\")\n",
    "\n",
    "    except Exception as e:\n",
    "        con.rollback()\n",
    "        print(f\"Ошибка: {e}. Транзакция отменена\")\n",
    "\n",
    "    finally:\n",
    "        con.close()\n",
    "else:\n",
    "    print(\"База данных не существует.\")\n"
   ]
  },
  {
   "cell_type": "markdown",
   "id": "a32a8a32",
   "metadata": {},
   "source": [
    "Задание 16\n",
    "Пользовательская функция: Вычисление возраста книги и использование в SQL-запросе"
   ]
  },
  {
   "cell_type": "code",
   "execution_count": null,
   "id": "2dae36dc",
   "metadata": {},
   "outputs": [
    {
     "name": "stdout",
     "output_type": "stream",
     "text": [
      "База данных существует!\n",
      "Книга: 1984, Год: 1948, Возраст: 77\n",
      "Книга: To Kill a Mockingbird, Год: 1960, Возраст: 65\n",
      "Книга: New Book, Год: 2025, Возраст: 0\n"
     ]
    }
   ],
   "source": [
    "import sqlite3\n",
    "import os\n",
    "from datetime import datetime\n",
    "\n",
    "db_file = 'library.db'\n",
    "\n",
    "def book_age(year):\n",
    "    return datetime.now().year - year\n",
    "\n",
    "if os.path.exists(db_file):\n",
    "    print(\"База данных существует!\")\n",
    "\n",
    "    con = sqlite3.connect(db_file)\n",
    "    con.create_function('book_age', 1, book_age)\n",
    "    cursor = con.cursor()\n",
    "\n",
    "    cursor.execute('''\n",
    "    SELECT title, year_published, book_age(year_published) AS age\n",
    "    FROM books;\n",
    "    ''')\n",
    "\n",
    "    rows = cursor.fetchall()\n",
    "    for i in rows:\n",
    "        print(f\"Книга: {i[0]}, Год: {i[1]}, Возраст: {i[2]}\")\n",
    "    con.commit()\n",
    "    con.close()\n",
    "else:\n",
    "    print(\"База данных не существует.\")"
   ]
  },
  {
   "cell_type": "markdown",
   "id": "a2a09cd8",
   "metadata": {},
   "source": [
    "Задача 17"
   ]
  },
  {
   "cell_type": "markdown",
   "id": "02bb4b32",
   "metadata": {},
   "source": [
    "Представления: Создайте представление modern_books для книг после 1950 года"
   ]
  },
  {
   "cell_type": "code",
   "execution_count": 45,
   "id": "845ee4c1",
   "metadata": {},
   "outputs": [
    {
     "name": "stdout",
     "output_type": "stream",
     "text": [
      "База данных существует!\n",
      "Представление modern_books создано\n"
     ]
    },
    {
     "ename": "OperationalError",
     "evalue": "no such column: year",
     "output_type": "error",
     "traceback": [
      "\u001b[0;31m---------------------------------------------------------------------------\u001b[0m",
      "\u001b[0;31mOperationalError\u001b[0m                          Traceback (most recent call last)",
      "Cell \u001b[0;32mIn[45], line 22\u001b[0m\n\u001b[1;32m     18\u001b[0m con\u001b[38;5;241m.\u001b[39mcommit()\n\u001b[1;32m     19\u001b[0m \u001b[38;5;28mprint\u001b[39m(\u001b[38;5;124m\"\u001b[39m\u001b[38;5;124mПредставление modern_books создано\u001b[39m\u001b[38;5;124m\"\u001b[39m)\n\u001b[0;32m---> 22\u001b[0m \u001b[43mcursor\u001b[49m\u001b[38;5;241;43m.\u001b[39;49m\u001b[43mexecute\u001b[49m\u001b[43m(\u001b[49m\u001b[38;5;124;43m'\u001b[39;49m\u001b[38;5;124;43mSELECT * FROM modern_books;\u001b[39;49m\u001b[38;5;124;43m'\u001b[39;49m\u001b[43m)\u001b[49m\n\u001b[1;32m     23\u001b[0m rows \u001b[38;5;241m=\u001b[39m cursor\u001b[38;5;241m.\u001b[39mfetchall()\n\u001b[1;32m     25\u001b[0m \u001b[38;5;28;01mfor\u001b[39;00m i \u001b[38;5;129;01min\u001b[39;00m rows:\n",
      "\u001b[0;31mOperationalError\u001b[0m: no such column: year"
     ]
    }
   ],
   "source": [
    "import sqlite3\n",
    "import os\n",
    "\n",
    "db_file = 'library.db'\n",
    "\n",
    "if os.path.exists(db_file):\n",
    "    print(\"База данных существует!\")\n",
    "\n",
    "    con = sqlite3.connect(db_file)\n",
    "    cursor = con.cursor()\n",
    "\n",
    "    create_view_query = '''\n",
    "    CREATE VIEW IF NOT EXISTS modern_books AS\n",
    "    SELECT * FROM books WHERE year_published > 1950;\n",
    "    '''\n",
    "\n",
    "    cursor.execute(create_view_query)\n",
    "    con.commit()\n",
    "    print(\"Представление modern_books создано\")\n",
    "\n",
    "    \n",
    "    cursor.execute('SELECT * FROM modern_books;')\n",
    "    rows = cursor.fetchall()\n",
    "\n",
    "    for i in rows:\n",
    "        print(i)\n",
    "\n",
    "    con.close()\n",
    "else:\n",
    "    print(\"База данных не существует.\")"
   ]
  },
  {
   "cell_type": "markdown",
   "id": "958302bf",
   "metadata": {},
   "source": [
    "Задание 18\n",
    "Удаление таблицы: Удалите таблицу books и проверьте её существование"
   ]
  },
  {
   "cell_type": "code",
   "execution_count": null,
   "id": "1c0aa992",
   "metadata": {},
   "outputs": [
    {
     "name": "stdout",
     "output_type": "stream",
     "text": [
      "База данных существует!\n",
      "Таблица books удалена\n",
      "Таблица books не существует\n"
     ]
    }
   ],
   "source": [
    "import sqlite3\n",
    "import os\n",
    "\n",
    "db_file = 'library.db'\n",
    "\n",
    "if os.path.exists(db_file):\n",
    "    print(\"База данных существует!\")\n",
    "\n",
    "    con = sqlite3.connect(db_file)\n",
    "    cursor = con.cursor()\n",
    "\n",
    "    \n",
    "    drop_table_query = '''\n",
    "    DROP TABLE IF EXISTS books;\n",
    "    '''\n",
    "\n",
    "    cursor.execute(drop_table_query)\n",
    "    con.commit()\n",
    "    print(\"Таблица books удалена\")\n",
    "\n",
    "    cursor.execute('''\n",
    "    SELECT name FROM sqlite_master WHERE type='table' AND name='books';\n",
    "    ''')\n",
    "    table_exists = cursor.fetchone()\n",
    "\n",
    "    if table_exists:\n",
    "        print(\"Таблица books все еще существует\")\n",
    "    else:\n",
    "        print(\"Таблица books не существует\")\n",
    "    con.commit()\n",
    "    con.close()\n",
    "else:\n",
    "    print(\"База данных не существует.\")"
   ]
  },
  {
   "cell_type": "markdown",
   "id": "dd51a856",
   "metadata": {},
   "source": [
    "Задание 19\n",
    "Композитный индекс: Создайте композитный индекс для столбцов author и year_published"
   ]
  },
  {
   "cell_type": "code",
   "execution_count": null,
   "id": "813faacf",
   "metadata": {},
   "outputs": [
    {
     "name": "stdout",
     "output_type": "stream",
     "text": [
      "База данных существует!\n",
      "Композитный индекс idx_author_year создан\n"
     ]
    }
   ],
   "source": [
    "import sqlite3\n",
    "import os\n",
    "\n",
    "db_file = 'library.db'\n",
    "\n",
    "if os.path.exists(db_file):\n",
    "    print(\"База данных существует!\")\n",
    "\n",
    "    con = sqlite3.connect(db_file)\n",
    "    cursor = con.cursor()\n",
    "\n",
    "    create_table_query = '''\n",
    "    CREATE TABLE IF NOT EXISTS books (\n",
    "        id INTEGER PRIMARY KEY AUTOINCREMENT,\n",
    "        title TEXT NOT NULL,\n",
    "        author TEXT NOT NULL,\n",
    "        year_published INTEGER,\n",
    "        genre TEXT\n",
    "    );\n",
    "    '''\n",
    "\n",
    "    create_index_query = '''\n",
    "    CREATE INDEX IF NOT EXISTS idx_author_year ON books(author, year_published);\n",
    "    '''\n",
    "\n",
    "    cursor.execute(create_table_query)  \n",
    "    cursor.execute(create_index_query)  \n",
    "    con.commit()\n",
    "    print(\"Композитный индекс idx_author_year создан\")\n",
    "    con.commit()\n",
    "    con.close()\n",
    "else:\n",
    "    print(\"База данных не существует.\")"
   ]
  },
  {
   "cell_type": "markdown",
   "id": "1962e497",
   "metadata": {},
   "source": [
    "Задание 20 \n",
    "Удаление базы данных: Удалите файл library.db, если он существует"
   ]
  },
  {
   "cell_type": "code",
   "execution_count": null,
   "id": "888aba4b",
   "metadata": {},
   "outputs": [],
   "source": [
    "import os\n",
    "\n",
    "db_file = 'library.db'\n",
    "\n",
    "if os.path.exists(db_file):\n",
    "    os.remove(db_file)\n",
    "    print(\"База данных library.db удалена\")\n",
    "else:\n",
    "    print(\"База данных library.db не существует\")"
   ]
  }
 ],
 "metadata": {
  "kernelspec": {
   "display_name": "Python 3",
   "language": "python",
   "name": "python3"
  },
  "language_info": {
   "codemirror_mode": {
    "name": "ipython",
    "version": 3
   },
   "file_extension": ".py",
   "mimetype": "text/x-python",
   "name": "python",
   "nbconvert_exporter": "python",
   "pygments_lexer": "ipython3",
   "version": "3.12.3"
  }
 },
 "nbformat": 4,
 "nbformat_minor": 5
}
